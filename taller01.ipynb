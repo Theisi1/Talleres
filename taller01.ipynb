{
 "cells": [
  {
   "cell_type": "markdown",
   "id": "918905be",
   "metadata": {},
   "source": [
    "# Taller 01\n",
    "\n",
    "## Isaac Gonzalez \n",
    "\n",
    "---\n",
    "\n",
    "### Ejericio 1\n",
    "\n",
    "La sumatoria $1 + 1/2 + 1/4 +1/8 ... $ tal que el error absoluto $e_{abs} < 10^{-1}$."
   ]
  },
  {
   "cell_type": "code",
   "execution_count": 1,
   "id": "4173c0f3",
   "metadata": {},
   "outputs": [
    {
     "name": "stdout",
     "output_type": "stream",
     "text": [
      "5\n"
     ]
    }
   ],
   "source": [
    "error = 10**-1\n",
    "suma = 0\n",
    "n = 0\n",
    "while abs(2 - suma) > error:\n",
    "    suma += 1/(2**n)\n",
    "    n += 1\n",
    "print(n)"
   ]
  },
  {
   "cell_type": "markdown",
   "id": "5fc0bc04",
   "metadata": {},
   "source": [
    "### Ejercicio 2 (Bubble sort)\n",
    "\n",
    "![XSDF](.\\sort.png)"
   ]
  },
  {
   "cell_type": "code",
   "execution_count": 6,
   "id": "44f61dae",
   "metadata": {},
   "outputs": [
    {
     "name": "stdout",
     "output_type": "stream",
     "text": [
      "Vector original: [3, 2, 5, 8, 4, 1]\n",
      "i | Vector\n",
      "--|----------------\n",
      "0 | [2, 3, 5, 4, 1, 8]\n",
      "Intercambios en esta pasada: 3\n",
      "1 | [2, 3, 4, 1, 5, 8]\n",
      "Intercambios en esta pasada: 5\n",
      "2 | [2, 3, 1, 4, 5, 8]\n",
      "Intercambios en esta pasada: 6\n",
      "3 | [2, 1, 3, 4, 5, 8]\n",
      "Intercambios en esta pasada: 7\n",
      "4 | [1, 2, 3, 4, 5, 8]\n",
      "Intercambios en esta pasada: 8\n",
      "5 | [1, 2, 3, 4, 5, 8]\n",
      "Intercambios en esta pasada: 8\n",
      "Resultado ordenado: [1, 2, 3, 4, 5, 8]\n",
      "i | Vector\n",
      "--|----------------\n",
      "0 | [-1, 0, 4, 5, 6, 7]\n",
      "Intercambios en esta pasada: 0\n",
      "\n",
      " Caso 2 : [-1, 0, 4, 5, 6, 7]\n"
     ]
    }
   ],
   "source": [
    "def bubble_sort(a):\n",
    "    n = len(a)\n",
    "    print(\"i | Vector\")\n",
    "    print(\"--|----------------\")\n",
    "    cont = 0\n",
    "    for i in range(n):\n",
    "        swapped = False\n",
    "        for j in range(1, n - i):\n",
    "            if a[j] < a[j - 1]:\n",
    "                \n",
    "                a[j], a[j - 1] = a[j - 1], a[j]\n",
    "                swapped = True\n",
    "                cont += 1\n",
    "        print(f\"{i} | {a}\")\n",
    "        print(f\"Intercambios en esta pasada: {cont}\")\n",
    "\n",
    "        if not swapped:\n",
    "            break\n",
    "    return a\n",
    "\n",
    "#Prueba de escritorio\n",
    "v1 = [3, 2, 5, 8, 4, 1]\n",
    "print(\"Vector original:\", v1)\n",
    "v_sorted = bubble_sort(v1.copy())\n",
    "print(\"Resultado ordenado:\", v_sorted)\n",
    "\n",
    "#Caso de prueba\n",
    "v2 = [ -1, 0, 4, 5, 6, 7]\n",
    "import random\n",
    "#v3 = [random.randint(-200, 145) for _ in range(100000)]\n",
    "\n",
    "print(\"\\n Caso 2 :\",  bubble_sort(v2.copy()))\n",
    "#print(\"\\n Caso 3 (random) :\", bubble_sort(v3.copy()))\n",
    "      "
   ]
  }
 ],
 "metadata": {
  "kernelspec": {
   "display_name": ".venv",
   "language": "python",
   "name": "python3"
  },
  "language_info": {
   "codemirror_mode": {
    "name": "ipython",
    "version": 3
   },
   "file_extension": ".py",
   "mimetype": "text/x-python",
   "name": "python",
   "nbconvert_exporter": "python",
   "pygments_lexer": "ipython3",
   "version": "3.12.5"
  }
 },
 "nbformat": 4,
 "nbformat_minor": 5
}
